{
 "cells": [
  {
   "cell_type": "code",
   "execution_count": 1,
   "id": "350c0090",
   "metadata": {},
   "outputs": [],
   "source": [
    "import pandas as pd\n",
    "import numpy as np\n",
    "import matplotlib.pyplot as plt\n",
    "import seaborn as sns"
   ]
  },
  {
   "cell_type": "code",
   "execution_count": 2,
   "id": "25eca9b7",
   "metadata": {},
   "outputs": [],
   "source": [
    "dados=pd.read_csv('MY2022 Fuel Consumption Ratings.csv')"
   ]
  },
  {
   "cell_type": "code",
   "execution_count": 3,
   "id": "8c3942dc",
   "metadata": {},
   "outputs": [
    {
     "data": {
      "text/html": [
       "<div>\n",
       "<style scoped>\n",
       "    .dataframe tbody tr th:only-of-type {\n",
       "        vertical-align: middle;\n",
       "    }\n",
       "\n",
       "    .dataframe tbody tr th {\n",
       "        vertical-align: top;\n",
       "    }\n",
       "\n",
       "    .dataframe thead th {\n",
       "        text-align: right;\n",
       "    }\n",
       "</style>\n",
       "<table border=\"1\" class=\"dataframe\">\n",
       "  <thead>\n",
       "    <tr style=\"text-align: right;\">\n",
       "      <th></th>\n",
       "      <th>Model Year</th>\n",
       "      <th>Make</th>\n",
       "      <th>Model</th>\n",
       "      <th>Vehicle Class</th>\n",
       "      <th>Engine Size(L)</th>\n",
       "      <th>Cylinders</th>\n",
       "      <th>Transmission</th>\n",
       "      <th>Fuel Type</th>\n",
       "      <th>Fuel Consumption (City (L/100 km)</th>\n",
       "      <th>Fuel Consumption(Hwy (L/100 km))</th>\n",
       "      <th>Fuel Consumption(Comb (L/100 km))</th>\n",
       "      <th>Fuel Consumption(Comb (mpg))</th>\n",
       "      <th>CO2 Emissions(g/km)</th>\n",
       "      <th>CO2 Rating</th>\n",
       "      <th>Smog Rating</th>\n",
       "    </tr>\n",
       "  </thead>\n",
       "  <tbody>\n",
       "    <tr>\n",
       "      <th>0</th>\n",
       "      <td>2022</td>\n",
       "      <td>Acura</td>\n",
       "      <td>ILX</td>\n",
       "      <td>Compact</td>\n",
       "      <td>2.4</td>\n",
       "      <td>4</td>\n",
       "      <td>AM8</td>\n",
       "      <td>Z</td>\n",
       "      <td>9.9</td>\n",
       "      <td>7.0</td>\n",
       "      <td>8.6</td>\n",
       "      <td>33</td>\n",
       "      <td>200</td>\n",
       "      <td>6</td>\n",
       "      <td>3</td>\n",
       "    </tr>\n",
       "    <tr>\n",
       "      <th>1</th>\n",
       "      <td>2022</td>\n",
       "      <td>Acura</td>\n",
       "      <td>MDX SH-AWD</td>\n",
       "      <td>SUV: Small</td>\n",
       "      <td>3.5</td>\n",
       "      <td>6</td>\n",
       "      <td>AS10</td>\n",
       "      <td>Z</td>\n",
       "      <td>12.6</td>\n",
       "      <td>9.4</td>\n",
       "      <td>11.2</td>\n",
       "      <td>25</td>\n",
       "      <td>263</td>\n",
       "      <td>4</td>\n",
       "      <td>5</td>\n",
       "    </tr>\n",
       "    <tr>\n",
       "      <th>2</th>\n",
       "      <td>2022</td>\n",
       "      <td>Acura</td>\n",
       "      <td>RDX SH-AWD</td>\n",
       "      <td>SUV: Small</td>\n",
       "      <td>2.0</td>\n",
       "      <td>4</td>\n",
       "      <td>AS10</td>\n",
       "      <td>Z</td>\n",
       "      <td>11.0</td>\n",
       "      <td>8.6</td>\n",
       "      <td>9.9</td>\n",
       "      <td>29</td>\n",
       "      <td>232</td>\n",
       "      <td>5</td>\n",
       "      <td>6</td>\n",
       "    </tr>\n",
       "    <tr>\n",
       "      <th>3</th>\n",
       "      <td>2022</td>\n",
       "      <td>Acura</td>\n",
       "      <td>RDX SH-AWD A-SPEC</td>\n",
       "      <td>SUV: Small</td>\n",
       "      <td>2.0</td>\n",
       "      <td>4</td>\n",
       "      <td>AS10</td>\n",
       "      <td>Z</td>\n",
       "      <td>11.3</td>\n",
       "      <td>9.1</td>\n",
       "      <td>10.3</td>\n",
       "      <td>27</td>\n",
       "      <td>242</td>\n",
       "      <td>5</td>\n",
       "      <td>6</td>\n",
       "    </tr>\n",
       "    <tr>\n",
       "      <th>4</th>\n",
       "      <td>2022</td>\n",
       "      <td>Acura</td>\n",
       "      <td>TLX SH-AWD</td>\n",
       "      <td>Compact</td>\n",
       "      <td>2.0</td>\n",
       "      <td>4</td>\n",
       "      <td>AS10</td>\n",
       "      <td>Z</td>\n",
       "      <td>11.2</td>\n",
       "      <td>8.0</td>\n",
       "      <td>9.8</td>\n",
       "      <td>29</td>\n",
       "      <td>230</td>\n",
       "      <td>5</td>\n",
       "      <td>7</td>\n",
       "    </tr>\n",
       "    <tr>\n",
       "      <th>5</th>\n",
       "      <td>2022</td>\n",
       "      <td>Acura</td>\n",
       "      <td>TLX SH-AWD A-SPEC</td>\n",
       "      <td>Compact</td>\n",
       "      <td>2.0</td>\n",
       "      <td>4</td>\n",
       "      <td>AS10</td>\n",
       "      <td>Z</td>\n",
       "      <td>11.3</td>\n",
       "      <td>8.1</td>\n",
       "      <td>9.8</td>\n",
       "      <td>29</td>\n",
       "      <td>231</td>\n",
       "      <td>5</td>\n",
       "      <td>7</td>\n",
       "    </tr>\n",
       "    <tr>\n",
       "      <th>6</th>\n",
       "      <td>2022</td>\n",
       "      <td>Acura</td>\n",
       "      <td>TLX Type S</td>\n",
       "      <td>Compact</td>\n",
       "      <td>3.0</td>\n",
       "      <td>6</td>\n",
       "      <td>AS10</td>\n",
       "      <td>Z</td>\n",
       "      <td>12.3</td>\n",
       "      <td>9.4</td>\n",
       "      <td>11.0</td>\n",
       "      <td>26</td>\n",
       "      <td>256</td>\n",
       "      <td>5</td>\n",
       "      <td>5</td>\n",
       "    </tr>\n",
       "    <tr>\n",
       "      <th>7</th>\n",
       "      <td>2022</td>\n",
       "      <td>Acura</td>\n",
       "      <td>TLX Type S (Performance Tire)</td>\n",
       "      <td>Compact</td>\n",
       "      <td>3.0</td>\n",
       "      <td>6</td>\n",
       "      <td>AS10</td>\n",
       "      <td>Z</td>\n",
       "      <td>12.3</td>\n",
       "      <td>9.8</td>\n",
       "      <td>11.2</td>\n",
       "      <td>25</td>\n",
       "      <td>261</td>\n",
       "      <td>4</td>\n",
       "      <td>5</td>\n",
       "    </tr>\n",
       "    <tr>\n",
       "      <th>8</th>\n",
       "      <td>2022</td>\n",
       "      <td>Alfa Romeo</td>\n",
       "      <td>Giulia</td>\n",
       "      <td>Mid-size</td>\n",
       "      <td>2.0</td>\n",
       "      <td>4</td>\n",
       "      <td>A8</td>\n",
       "      <td>Z</td>\n",
       "      <td>10.0</td>\n",
       "      <td>7.2</td>\n",
       "      <td>8.7</td>\n",
       "      <td>32</td>\n",
       "      <td>205</td>\n",
       "      <td>6</td>\n",
       "      <td>3</td>\n",
       "    </tr>\n",
       "    <tr>\n",
       "      <th>9</th>\n",
       "      <td>2022</td>\n",
       "      <td>Alfa Romeo</td>\n",
       "      <td>Giulia AWD</td>\n",
       "      <td>Mid-size</td>\n",
       "      <td>2.0</td>\n",
       "      <td>4</td>\n",
       "      <td>A8</td>\n",
       "      <td>Z</td>\n",
       "      <td>10.5</td>\n",
       "      <td>7.7</td>\n",
       "      <td>9.2</td>\n",
       "      <td>31</td>\n",
       "      <td>217</td>\n",
       "      <td>5</td>\n",
       "      <td>3</td>\n",
       "    </tr>\n",
       "  </tbody>\n",
       "</table>\n",
       "</div>"
      ],
      "text/plain": [
       "   Model Year        Make                          Model Vehicle Class  \\\n",
       "0        2022       Acura                            ILX       Compact   \n",
       "1        2022       Acura                     MDX SH-AWD    SUV: Small   \n",
       "2        2022       Acura                     RDX SH-AWD    SUV: Small   \n",
       "3        2022       Acura              RDX SH-AWD A-SPEC    SUV: Small   \n",
       "4        2022       Acura                     TLX SH-AWD       Compact   \n",
       "5        2022       Acura              TLX SH-AWD A-SPEC       Compact   \n",
       "6        2022       Acura                     TLX Type S       Compact   \n",
       "7        2022       Acura  TLX Type S (Performance Tire)       Compact   \n",
       "8        2022  Alfa Romeo                         Giulia      Mid-size   \n",
       "9        2022  Alfa Romeo                     Giulia AWD      Mid-size   \n",
       "\n",
       "   Engine Size(L)  Cylinders Transmission Fuel Type  \\\n",
       "0             2.4          4          AM8         Z   \n",
       "1             3.5          6         AS10         Z   \n",
       "2             2.0          4         AS10         Z   \n",
       "3             2.0          4         AS10         Z   \n",
       "4             2.0          4         AS10         Z   \n",
       "5             2.0          4         AS10         Z   \n",
       "6             3.0          6         AS10         Z   \n",
       "7             3.0          6         AS10         Z   \n",
       "8             2.0          4           A8         Z   \n",
       "9             2.0          4           A8         Z   \n",
       "\n",
       "   Fuel Consumption (City (L/100 km)  Fuel Consumption(Hwy (L/100 km))  \\\n",
       "0                                9.9                               7.0   \n",
       "1                               12.6                               9.4   \n",
       "2                               11.0                               8.6   \n",
       "3                               11.3                               9.1   \n",
       "4                               11.2                               8.0   \n",
       "5                               11.3                               8.1   \n",
       "6                               12.3                               9.4   \n",
       "7                               12.3                               9.8   \n",
       "8                               10.0                               7.2   \n",
       "9                               10.5                               7.7   \n",
       "\n",
       "   Fuel Consumption(Comb (L/100 km))  Fuel Consumption(Comb (mpg))  \\\n",
       "0                                8.6                            33   \n",
       "1                               11.2                            25   \n",
       "2                                9.9                            29   \n",
       "3                               10.3                            27   \n",
       "4                                9.8                            29   \n",
       "5                                9.8                            29   \n",
       "6                               11.0                            26   \n",
       "7                               11.2                            25   \n",
       "8                                8.7                            32   \n",
       "9                                9.2                            31   \n",
       "\n",
       "   CO2 Emissions(g/km)  CO2 Rating  Smog Rating  \n",
       "0                  200           6            3  \n",
       "1                  263           4            5  \n",
       "2                  232           5            6  \n",
       "3                  242           5            6  \n",
       "4                  230           5            7  \n",
       "5                  231           5            7  \n",
       "6                  256           5            5  \n",
       "7                  261           4            5  \n",
       "8                  205           6            3  \n",
       "9                  217           5            3  "
      ]
     },
     "execution_count": 3,
     "metadata": {},
     "output_type": "execute_result"
    }
   ],
   "source": [
    "dados.head(10)"
   ]
  },
  {
   "cell_type": "code",
   "execution_count": 4,
   "id": "1a0e5e5e",
   "metadata": {},
   "outputs": [],
   "source": [
    "#dados.groupby('Fuel Type').sum()"
   ]
  },
  {
   "cell_type": "markdown",
   "id": "30b867ad",
   "metadata": {},
   "source": [
    "## Avaliando as correlações preliminares"
   ]
  },
  {
   "cell_type": "code",
   "execution_count": 5,
   "id": "641991b9",
   "metadata": {},
   "outputs": [
    {
     "data": {
      "image/png": "[encoded data removed]",
      "text/plain": [
       "<Figure size 864x864 with 2 Axes>"
      ]
     },
     "metadata": {
      "needs_background": "light"
     },
     "output_type": "display_data"
    }
   ],
   "source": [
    "plt.figure(figsize=(12,12))\n",
    "sns.heatmap(data=dados.corr(),annot=True, linewidths=0.5, cmap='coolwarm', square=True);"
   ]
  },
  {
   "cell_type": "markdown",
   "id": "a45eed41",
   "metadata": {},
   "source": [
    "## Importando e preparando o modelo"
   ]
  },
  {
   "cell_type": "code",
   "execution_count": 6,
   "id": "738a929d",
   "metadata": {},
   "outputs": [],
   "source": [
    "from sklearn.linear_model import LinearRegression\n",
    "from sklearn.metrics import mean_squared_error\n",
    "from sklearn.metrics import r2_score as R2"
   ]
  },
  {
   "cell_type": "markdown",
   "id": "fe8b46b6",
   "metadata": {},
   "source": [
    "###### Foram desconsiderados os valores mais próximos de uma correlação perfeita, respeitando a não multicolinearidade"
   ]
  },
  {
   "cell_type": "code",
   "execution_count": 7,
   "id": "2060042b",
   "metadata": {},
   "outputs": [],
   "source": [
    "var_pred=['Model Year', 'Cylinders', 'Fuel Consumption(Hwy (L/100 km))', 'Fuel Consumption(Comb (mpg))', 'CO2 Rating', 'Smog Rating']"
   ]
  },
  {
   "cell_type": "code",
   "execution_count": 8,
   "id": "2828c4dc",
   "metadata": {},
   "outputs": [],
   "source": [
    "x=dados[var_pred]\n",
    "y=dados['CO2 Emissions(g/km)']"
   ]
  },
  {
   "cell_type": "code",
   "execution_count": 9,
   "id": "2d5bc8d5",
   "metadata": {},
   "outputs": [],
   "source": [
    "x=x.dropna()\n",
    "y=y.dropna()"
   ]
  },
  {
   "cell_type": "code",
   "execution_count": 10,
   "id": "0f792000",
   "metadata": {},
   "outputs": [],
   "source": [
    "modelo=LinearRegression()"
   ]
  },
  {
   "cell_type": "markdown",
   "id": "aee3b24c",
   "metadata": {},
   "source": [
    "#### Preparando a validação"
   ]
  },
  {
   "cell_type": "code",
   "execution_count": 11,
   "id": "7ee3b6c6",
   "metadata": {},
   "outputs": [],
   "source": [
    "from sklearn.model_selection import train_test_split as tts"
   ]
  },
  {
   "cell_type": "code",
   "execution_count": 12,
   "id": "2b126cd8",
   "metadata": {},
   "outputs": [],
   "source": [
    "# ?tts"
   ]
  },
  {
   "cell_type": "code",
   "execution_count": 13,
   "id": "9a6e11c7",
   "metadata": {},
   "outputs": [
    {
     "data": {
      "text/plain": [
       "((473, 6), (473, 6), (473,), (473,))"
      ]
     },
     "execution_count": 13,
     "metadata": {},
     "output_type": "execute_result"
    }
   ],
   "source": [
    "np.random.seed(0)\n",
    "x_treino,  x_valid, y_treino, y_valid = tts(x, y, test_size=0.5)\n",
    "x_treino.shape, x_valid.shape, y_treino.shape, y_valid.shape"
   ]
  },
  {
   "cell_type": "code",
   "execution_count": 14,
   "id": "3cf25ac7",
   "metadata": {},
   "outputs": [
    {
     "data": {
      "text/plain": [
       "LinearRegression()"
      ]
     },
     "execution_count": 14,
     "metadata": {},
     "output_type": "execute_result"
    }
   ],
   "source": [
    "modelo.fit(x_treino, y_treino)"
   ]
  },
  {
   "cell_type": "code",
   "execution_count": 15,
   "id": "c11dd22a",
   "metadata": {},
   "outputs": [
    {
     "data": {
      "text/plain": [
       "array([  0.        ,   7.25787216,   8.9580878 ,  -0.41939104,\n",
       "       -18.89969286,  -1.48413962])"
      ]
     },
     "execution_count": 15,
     "metadata": {},
     "output_type": "execute_result"
    }
   ],
   "source": [
    "modelo.coef_"
   ]
  },
  {
   "cell_type": "code",
   "execution_count": 16,
   "id": "c898a23b",
   "metadata": {},
   "outputs": [],
   "source": [
    "predic=modelo.predict(x_valid)"
   ]
  },
  {
   "cell_type": "code",
   "execution_count": 17,
   "id": "0b817a83",
   "metadata": {},
   "outputs": [
    {
     "data": {
      "text/plain": [
       "140.9636606453557"
      ]
     },
     "execution_count": 17,
     "metadata": {},
     "output_type": "execute_result"
    }
   ],
   "source": [
    "mean_squared_error(y_valid, predic)"
   ]
  },
  {
   "cell_type": "code",
   "execution_count": 18,
   "id": "5756de39",
   "metadata": {},
   "outputs": [
    {
     "data": {
      "text/plain": [
       "0.9644580842303867"
      ]
     },
     "execution_count": 18,
     "metadata": {},
     "output_type": "execute_result"
    }
   ],
   "source": [
    "R2(y_valid, predic)"
   ]
  }
 ],
 "metadata": {
  "kernelspec": {
   "display_name": "Python 3 (ipykernel)",
   "language": "python",
   "name": "python3"
  },
  "language_info": {
   "codemirror_mode": {
    "name": "ipython",
    "version": 3
   },
   "file_extension": ".py",
   "mimetype": "text/x-python",
   "name": "python",
   "nbconvert_exporter": "python",
   "pygments_lexer": "ipython3",
   "version": "3.9.12"
  }
 },
 "nbformat": 4,
 "nbformat_minor": 5
}
